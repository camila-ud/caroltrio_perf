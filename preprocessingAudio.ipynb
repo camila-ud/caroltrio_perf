{
 "cells": [
  {
   "cell_type": "markdown",
   "metadata": {},
   "source": [
    "This notebook change the length of all wav files preprocessed to 22kHz "
   ]
  },
  {
   "cell_type": "code",
   "execution_count": 1,
   "metadata": {},
   "outputs": [],
   "source": [
    "import matplotlib.pyplot as plt \n",
    "%matplotlib inline \n",
    "import numpy as np \n",
    "\n",
    "import os "
   ]
  },
  {
   "cell_type": "code",
   "execution_count": 9,
   "metadata": {},
   "outputs": [],
   "source": [
    "filepath = '/home/brain/Desktop/BrainSongs/audiosummary_private/christopherocher/'\n",
    "listfiles = os.listdir(filepath)\n",
    "listnpz = []\n",
    "for c in listfiles:\n",
    "    if c[-3:] == 'npz':\n",
    "        listnpz.append(os.path.join(filepath,c))"
   ]
  },
  {
   "cell_type": "code",
   "execution_count": 3,
   "metadata": {},
   "outputs": [
    {
     "data": {
      "text/plain": [
       "['/home/brain/Desktop/BrainSongs/audiosummary_private/christopherocher/caroleeg_sess3.npz',\n",
       " '/home/brain/Desktop/BrainSongs/audiosummary_private/christopherocher/caroleeg_sess5_2.npz',\n",
       " '/home/brain/Desktop/BrainSongs/audiosummary_private/christopherocher/caroleeg_sess5_1.npz',\n",
       " '/home/brain/Desktop/BrainSongs/audiosummary_private/christopherocher/caroleeg_sess2.npz',\n",
       " '/home/brain/Desktop/BrainSongs/audiosummary_private/christopherocher/caroleeg_sess4_1.npz',\n",
       " '/home/brain/Desktop/BrainSongs/audiosummary_private/christopherocher/caroleeg_sess6.npz',\n",
       " '/home/brain/Desktop/BrainSongs/audiosummary_private/christopherocher/caroleeg_sess4_3.npz',\n",
       " '/home/brain/Desktop/BrainSongs/audiosummary_private/christopherocher/caroleeg_sess4_2.npz',\n",
       " '/home/brain/Desktop/BrainSongs/audiosummary_private/christopherocher/caroleeg_perf1.npz',\n",
       " '/home/brain/Desktop/BrainSongs/audiosummary_private/christopherocher/caroleeg_perf2.npz']"
      ]
     },
     "execution_count": 3,
     "metadata": {},
     "output_type": "execute_result"
    }
   ],
   "source": [
    "listnpz\n"
   ]
  },
  {
   "cell_type": "code",
   "execution_count": 34,
   "metadata": {},
   "outputs": [],
   "source": [
    "import soundfile as sf\n",
    "def load(filepath):\n",
    "    sound, sr = sf.read(filepath,dtype ='float32')   \n",
    "    return sound,sr"
   ]
  },
  {
   "cell_type": "code",
   "execution_count": 40,
   "metadata": {},
   "outputs": [],
   "source": [
    "from analysis import quantize\n",
    "def cut(filepath,addnoise = True):\n",
    "    resultdir = os.path.join('data_clean')\n",
    "    os.makedirs(resultdir,exist_ok=True)\n",
    "    # audio 22kHz, mono\n",
    "    audiopath = '/home/brain/Desktop/BrainSongs/audiosummary_private/audio22k/'\n",
    "    for curnpz in listnpz:\n",
    "        focus = np.load(curnpz)['focus']\n",
    "        \n",
    "        subjtime = np.load(curnpz)['subjtime']\n",
    "        #Quantization\n",
    "        focus_q = quantize(focus,res=1,delaytime=0) \n",
    "        subt_q = quantize(subjtime,res=1,delaytime=1)\n",
    "\n",
    "        maxtime = min(focus_q.shape[0],subt_q.shape[0])\n",
    "\n",
    "        if addnoise:\n",
    "            focus_q[:maxtime,1] += np.random.rand(maxtime)\n",
    "            subt_q[:maxtime,1] += np.random.rand(maxtime)\n",
    "        \n",
    "        ## name of audiofile\n",
    "        name = curnpz.split('/')[7][:-4] \n",
    "        audio,sr = load(\"{}{}_.wav\".format(audiopath,name))\n",
    "        print(\"Maxtime : {}s, audio.shape : {}s\".format(maxtime,audio.shape[0]/sr))\n",
    "        if audio.shape[0] > maxtime*sr:\n",
    "            audio = audio[:maxtime*sr]        \n",
    "        #save\n",
    "        sf.write('{}/{}.wav'.format(resultdir,name), audio, sr)\n",
    "        \n",
    "        print(\"audio ok, new shape : {}s\".format(audio.shape[0]/sr))\n",
    "        X = np.stack([focus_q[:maxtime,1],subt_q[:maxtime,1]]).T\n",
    "        np.savez_compressed(\"{}/{}.npz\".format(resultdir,name),evaluation = X)\n",
    "        print(\"npz ok\")"
   ]
  },
  {
   "cell_type": "code",
   "execution_count": 41,
   "metadata": {},
   "outputs": [
    {
     "name": "stdout",
     "output_type": "stream",
     "text": [
      "Maxtime : 1701s, audio.shape : 1766.7273015873016s\n",
      "audio ok, new shape : 1701.0s\n",
      "npz ok\n",
      "Maxtime : 895s, audio.shape : 951.2727437641723s\n",
      "audio ok, new shape : 895.0s\n",
      "npz ok\n",
      "Maxtime : 602s, audio.shape : 698.1818594104309s\n",
      "audio ok, new shape : 602.0s\n",
      "npz ok\n",
      "Maxtime : 907s, audio.shape : 977.4545578231292s\n",
      "audio ok, new shape : 907.0s\n",
      "npz ok\n",
      "Maxtime : 543s, audio.shape : 558.5454875283447s\n",
      "audio ok, new shape : 543.0s\n",
      "npz ok\n",
      "Maxtime : 1724s, audio.shape : 1741.0909297052153s\n",
      "audio ok, new shape : 1724.0s\n",
      "npz ok\n",
      "Maxtime : 453s, audio.shape : 558.5454875283447s\n",
      "audio ok, new shape : 453.0s\n",
      "npz ok\n",
      "Maxtime : 594s, audio.shape : 558.5454875283447s\n",
      "audio ok, new shape : 558.5454875283447s\n",
      "npz ok\n",
      "Maxtime : 789s, audio.shape : 855.2727437641723s\n",
      "audio ok, new shape : 789.0s\n",
      "npz ok\n",
      "Maxtime : 1048s, audio.shape : 1077.818185941043s\n",
      "audio ok, new shape : 1048.0s\n",
      "npz ok\n"
     ]
    }
   ],
   "source": [
    "#quantize and save data\n",
    "cut(filepath)"
   ]
  }
 ],
 "metadata": {
  "kernelspec": {
   "display_name": "Python 3",
   "language": "python",
   "name": "python3"
  },
  "language_info": {
   "codemirror_mode": {
    "name": "ipython",
    "version": 3
   },
   "file_extension": ".py",
   "mimetype": "text/x-python",
   "name": "python",
   "nbconvert_exporter": "python",
   "pygments_lexer": "ipython3",
   "version": "3.7.3"
  }
 },
 "nbformat": 4,
 "nbformat_minor": 2
}
